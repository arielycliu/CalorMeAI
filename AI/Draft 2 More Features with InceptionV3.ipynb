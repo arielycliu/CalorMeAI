{
 "cells": [
  {
   "cell_type": "markdown",
   "id": "dee60757",
   "metadata": {},
   "source": [
    "## Goals:\n",
    "- try training more features\n",
    "- reducing over fitting\n",
    "- increase accuracy"
   ]
  },
  {
   "cell_type": "code",
   "execution_count": 8,
   "id": "14552581",
   "metadata": {},
   "outputs": [],
   "source": [
    "import os\n",
    "from collections import defaultdict\n",
    "from shutil import copy\n",
    "from shutil import copytree, rmtree\n",
    "\n",
    "def move_data(filepath, src, dest): # Function for moving files - split training and testing data into files\n",
    "  classes_images = defaultdict(list)\n",
    "  with open(filepath, 'r') as txt:\n",
    "      paths = [read.strip() for read in txt.readlines()]\n",
    "      for p in paths:\n",
    "        food = p.split('/')\n",
    "        classes_images[food[0]].append(food[1] + '.jpg')\n",
    "\n",
    "  for food in classes_images.keys():\n",
    "    print(\" \" + food, end=\" \")\n",
    "    if not os.path.exists(os.path.join(dest,food)):\n",
    "      os.makedirs(os.path.join(dest,food))\n",
    "    for i in classes_images[food]:\n",
    "        try:\n",
    "            copy(os.path.join(src,food,i), os.path.join(dest,food,i))\n",
    "        except:\n",
    "            return"
   ]
  },
  {
   "cell_type": "code",
   "execution_count": 9,
   "id": "2598fa7b",
   "metadata": {},
   "outputs": [],
   "source": [
    "# Create data txt files with cheesecake, ceasar salad, and chicken curry\n",
    "def create_food_list(filepath, food_list_filepath, food_list):\n",
    "    with open(filepath, 'r') as txt:\n",
    "        paths = [read.strip() for read in txt.readlines()]\n",
    "        \n",
    "    food_list_file = open(food_list_filepath, \"w\")\n",
    "    for p in paths:\n",
    "        food = p.split('/')\n",
    "        #print(food)\n",
    "        if food[0] in food_list:\n",
    "            food_list_file.write(p + \"\\n\")\n",
    "                #final_food_list.append(p)\n",
    "    food_list_file.close()"
   ]
  },
  {
   "cell_type": "code",
   "execution_count": 10,
   "id": "ab492851",
   "metadata": {},
   "outputs": [],
   "source": [
    "food_list = ['cheesecake', 'baklava', 'carrot_cake', 'french_fries', 'churros', 'oysters', 'spring_rolls', 'sushi', 'pancakes', 'grilled_salmon']\n",
    "\n",
    "create_food_list('meta/train.txt', 'meta/trainAllDraft2.txt', food_list)\n",
    "create_food_list('meta/test.txt', 'meta/testAllDraft2.txt', food_list)"
   ]
  },
  {
   "cell_type": "code",
   "execution_count": 26,
   "id": "f2e190ec",
   "metadata": {},
   "outputs": [
    {
     "name": "stdout",
     "output_type": "stream",
     "text": [
      " baklava  carrot_cake  cheesecake  churros  french_fries  grilled_salmon  oysters  pancakes  spring_rolls  sushi "
     ]
    }
   ],
   "source": [
    "move_data('meta/trainAllDraft2.txt', 'images', 'Data/trainAllDraft2') "
   ]
  },
  {
   "cell_type": "code",
   "execution_count": 25,
   "id": "2edfa8e7",
   "metadata": {},
   "outputs": [
    {
     "name": "stdout",
     "output_type": "stream",
     "text": [
      " baklava  carrot_cake  cheesecake  churros  french_fries  grilled_salmon  oysters  pancakes  spring_rolls  sushi "
     ]
    }
   ],
   "source": [
    "move_data('meta/testAllDraft2.txt', 'images', 'Data/testAllDraft2') "
   ]
  },
  {
   "cell_type": "markdown",
   "id": "d0241875",
   "metadata": {},
   "source": [
    "## Getting Image Data Ready"
   ]
  },
  {
   "cell_type": "code",
   "execution_count": 27,
   "id": "e02e014b",
   "metadata": {},
   "outputs": [],
   "source": [
    "import tensorflow as tf\n",
    "\n",
    "data_gen = tf.keras.preprocessing.image.ImageDataGenerator(rescale=1./255, validation_split=0.2)"
   ]
  },
  {
   "cell_type": "code",
   "execution_count": 28,
   "id": "6a1da26a",
   "metadata": {},
   "outputs": [
    {
     "name": "stdout",
     "output_type": "stream",
     "text": [
      "Found 7500 images belonging to 10 classes.\n",
      "Found 2500 images belonging to 10 classes.\n"
     ]
    }
   ],
   "source": [
    "image_size = (235, 235)\n",
    "batch_size = 16\n",
    "\n",
    "train_gen = data_gen.flow_from_directory('Data/trainAllDraft2', target_size=image_size, batch_size=batch_size) # class_mode default categorical\n",
    "test_gen = data_gen.flow_from_directory('Data/testAllDraft2', target_size=image_size, batch_size=batch_size)"
   ]
  },
  {
   "cell_type": "code",
   "execution_count": 32,
   "id": "acf24cea",
   "metadata": {},
   "outputs": [],
   "source": [
    "image_shape = (235, 235, 3)"
   ]
  },
  {
   "cell_type": "markdown",
   "id": "cfcc8252",
   "metadata": {},
   "source": [
    "## Load InceptionV3"
   ]
  },
  {
   "cell_type": "code",
   "execution_count": 33,
   "id": "79dcfd47",
   "metadata": {},
   "outputs": [],
   "source": [
    "inception_model = tf.keras.applications.InceptionV3(weights='imagenet', input_shape=image_shape, include_top=False) # include top freeze weights\n",
    "inception_model.trainable=False # don't retrain weights - transfer learn"
   ]
  },
  {
   "cell_type": "markdown",
   "id": "a3c1dd5c",
   "metadata": {},
   "source": [
    "## Model 1"
   ]
  },
  {
   "cell_type": "code",
   "execution_count": 34,
   "id": "20ec2e90",
   "metadata": {},
   "outputs": [
    {
     "name": "stdout",
     "output_type": "stream",
     "text": [
      "Model: \"sequential_4\"\n",
      "_________________________________________________________________\n",
      "Layer (type)                 Output Shape              Param #   \n",
      "=================================================================\n",
      "inception_v3 (Functional)    (None, 6, 6, 2048)        21802784  \n",
      "_________________________________________________________________\n",
      "dropout_8 (Dropout)          (None, 6, 6, 2048)        0         \n",
      "_________________________________________________________________\n",
      "conv2d_192 (Conv2D)          (None, 4, 4, 32)          589856    \n",
      "_________________________________________________________________\n",
      "dropout_9 (Dropout)          (None, 4, 4, 32)          0         \n",
      "_________________________________________________________________\n",
      "global_average_pooling2d_4 ( (None, 32)                0         \n",
      "_________________________________________________________________\n",
      "dense_4 (Dense)              (None, 10)                330       \n",
      "=================================================================\n",
      "Total params: 22,392,970\n",
      "Trainable params: 590,186\n",
      "Non-trainable params: 21,802,784\n",
      "_________________________________________________________________\n"
     ]
    }
   ],
   "source": [
    "from tensorflow import keras\n",
    "from tensorflow.keras import layers\n",
    "from tensorflow.keras.models import Sequential\n",
    "from tensorflow.keras.layers import Dense, Activation, Dropout, Conv2D, MaxPool2D, GlobalAveragePooling2D\n",
    "\n",
    "model1 = Sequential()\n",
    "model1.add(inception_model)\n",
    "model1.add(Dropout(0.2))\n",
    "model1.add(Conv2D(32, 3, activation='relu'))  #filters=32, strides=2, kernel_size=(5,5),\n",
    "model1.add(Dropout(0.2))\n",
    "model1.add(GlobalAveragePooling2D()) # avg output of feature map\n",
    "model1.add(Dense(10, activation='softmax'))\n",
    "\n",
    "model1.summary()"
   ]
  },
  {
   "cell_type": "code",
   "execution_count": 35,
   "id": "ffc9e223",
   "metadata": {},
   "outputs": [],
   "source": [
    "model1.compile(optimizer='adam', loss='categorical_crossentropy', metrics=['accuracy'])"
   ]
  },
  {
   "cell_type": "code",
   "execution_count": 42,
   "id": "02058be9",
   "metadata": {},
   "outputs": [],
   "source": [
    "from tensorflow.keras.callbacks import EarlyStopping, ModelCheckpoint\n",
    "earlystopping = EarlyStopping(min_delta=0.001, patience=5, restore_best_weights=True)\n",
    "checkpoint = ModelCheckpoint(filepath='models/draft2/model1.h5', verbose=1, save_best_only=True, save_weights_only=True)"
   ]
  },
  {
   "cell_type": "code",
   "execution_count": 43,
   "id": "53f251cc",
   "metadata": {},
   "outputs": [
    {
     "name": "stdout",
     "output_type": "stream",
     "text": [
      "Epoch 1/30\n",
      "469/469 [==============================] - 161s 343ms/step - loss: 0.8287 - accuracy: 0.7372 - val_loss: 0.9063 - val_accuracy: 0.7452\n",
      "\n",
      "Epoch 00001: val_loss improved from inf to 0.90625, saving model to models/draft2\\model1.h5\n",
      "Epoch 2/30\n",
      "469/469 [==============================] - 177s 377ms/step - loss: 0.7936 - accuracy: 0.7417 - val_loss: 0.8877 - val_accuracy: 0.7376\n",
      "\n",
      "Epoch 00002: val_loss improved from 0.90625 to 0.88770, saving model to models/draft2\\model1.h5\n",
      "Epoch 3/30\n",
      "469/469 [==============================] - 171s 365ms/step - loss: 0.7247 - accuracy: 0.7589 - val_loss: 0.9316 - val_accuracy: 0.7244\n",
      "\n",
      "Epoch 00003: val_loss did not improve from 0.88770\n",
      "Epoch 4/30\n",
      "469/469 [==============================] - 169s 360ms/step - loss: 0.6897 - accuracy: 0.7763 - val_loss: 0.8773 - val_accuracy: 0.7368\n",
      "\n",
      "Epoch 00004: val_loss improved from 0.88770 to 0.87728, saving model to models/draft2\\model1.h5\n",
      "Epoch 5/30\n",
      "469/469 [==============================] - 167s 357ms/step - loss: 0.6335 - accuracy: 0.7987 - val_loss: 0.8867 - val_accuracy: 0.7496\n",
      "\n",
      "Epoch 00005: val_loss did not improve from 0.87728\n",
      "Epoch 6/30\n",
      "469/469 [==============================] - 160s 342ms/step - loss: 0.6147 - accuracy: 0.7985 - val_loss: 0.8661 - val_accuracy: 0.7556\n",
      "\n",
      "Epoch 00006: val_loss improved from 0.87728 to 0.86612, saving model to models/draft2\\model1.h5\n",
      "Epoch 7/30\n",
      "469/469 [==============================] - 161s 343ms/step - loss: 0.5789 - accuracy: 0.8052 - val_loss: 0.9153 - val_accuracy: 0.7636\n",
      "\n",
      "Epoch 00007: val_loss did not improve from 0.86612\n",
      "Epoch 8/30\n",
      "469/469 [==============================] - 162s 346ms/step - loss: 0.5723 - accuracy: 0.8109 - val_loss: 0.9343 - val_accuracy: 0.7584\n",
      "\n",
      "Epoch 00008: val_loss did not improve from 0.86612\n",
      "Epoch 9/30\n",
      "469/469 [==============================] - 160s 341ms/step - loss: 0.5383 - accuracy: 0.8192 - val_loss: 0.8846 - val_accuracy: 0.7644\n",
      "\n",
      "Epoch 00009: val_loss did not improve from 0.86612\n",
      "Epoch 10/30\n",
      "469/469 [==============================] - 158s 337ms/step - loss: 0.5150 - accuracy: 0.8291 - val_loss: 1.0394 - val_accuracy: 0.7368\n",
      "\n",
      "Epoch 00010: val_loss did not improve from 0.86612\n",
      "Epoch 11/30\n",
      "469/469 [==============================] - 164s 350ms/step - loss: 0.4960 - accuracy: 0.8372 - val_loss: 0.9433 - val_accuracy: 0.7548\n",
      "\n",
      "Epoch 00011: val_loss did not improve from 0.86612\n"
     ]
    }
   ],
   "source": [
    "history1 = model1.fit(train_gen, validation_data=test_gen, epochs=30, verbose=1, callbacks=[checkpoint, earlystopping])"
   ]
  },
  {
   "cell_type": "code",
   "execution_count": 44,
   "id": "a0f9234d",
   "metadata": {},
   "outputs": [],
   "source": [
    "# Save model\n",
    "model1.save(\"models/draft2/model1.h5\")"
   ]
  },
  {
   "cell_type": "markdown",
   "id": "d50998c1",
   "metadata": {},
   "source": [
    "## Plot"
   ]
  },
  {
   "cell_type": "code",
   "execution_count": 45,
   "id": "5c6ad3fb",
   "metadata": {},
   "outputs": [
    {
     "data": {
      "text/plain": [
       "<AxesSubplot:>"
      ]
     },
     "execution_count": 45,
     "metadata": {},
     "output_type": "execute_result"
    },
    {
     "data": {
      "image/png": "[encoded data removed]",
      "text/plain": [
       "<Figure size 432x288 with 1 Axes>"
      ]
     },
     "metadata": {
      "needs_background": "light"
     },
     "output_type": "display_data"
    },
    {
     "data": {
      "image/png": "[encoded data removed]",
      "text/plain": [
       "<Figure size 432x288 with 1 Axes>"
      ]
     },
     "metadata": {
      "needs_background": "light"
     },
     "output_type": "display_data"
    }
   ],
   "source": [
    "import pandas as pd\n",
    "\n",
    "history_df = pd.DataFrame(history1.history)\n",
    "history_df.loc[:,['loss', 'val_loss']].plot()\n",
    "history_df.loc[:,['accuracy', 'val_accuracy']].plot()"
   ]
  },
  {
   "cell_type": "code",
   "execution_count": 46,
   "id": "1e6112b2",
   "metadata": {},
   "outputs": [
    {
     "name": "stdout",
     "output_type": "stream",
     "text": [
      "0.7644000053405762\n"
     ]
    }
   ],
   "source": [
    "print(max(history_df['val_accuracy']))"
   ]
  },
  {
   "cell_type": "markdown",
   "id": "a57768ad",
   "metadata": {},
   "source": [
    "## Convert to tf lite"
   ]
  },
  {
   "cell_type": "code",
   "execution_count": 47,
   "id": "57a11e17",
   "metadata": {},
   "outputs": [],
   "source": [
    "import tensorflow as tf\n",
    "assert tf.__version__.startswith('2')"
   ]
  },
  {
   "cell_type": "code",
   "execution_count": 48,
   "id": "af2c3432",
   "metadata": {},
   "outputs": [
    {
     "name": "stdout",
     "output_type": "stream",
     "text": [
      "Note: you may need to restart the kernel to use updated packages.\n"
     ]
    },
    {
     "name": "stderr",
     "output_type": "stream",
     "text": [
      "ERROR: Could not find a version that satisfies the requirement tensorflow==2\n",
      "ERROR: No matching distribution found for tensorflow==2\n"
     ]
    }
   ],
   "source": [
    "pip install tensorflow==2"
   ]
  },
  {
   "cell_type": "code",
   "execution_count": 50,
   "id": "47abb3ad",
   "metadata": {},
   "outputs": [
    {
     "name": "stdout",
     "output_type": "stream",
     "text": [
      "INFO:tensorflow:Assets written to: C:\\Users\\ariel\\AppData\\Local\\Temp\\tmp6xz4jmhv\\assets\n"
     ]
    }
   ],
   "source": [
    "converter = tf.lite.TFLiteConverter.from_keras_model(model1)\n",
    "tflite_model = converter.convert()\n",
    "with open('modelIN10features.tflite', 'wb') as f:\n",
    "  f.write(tflite_model)"
   ]
  },
  {
   "cell_type": "code",
   "execution_count": 51,
   "id": "6d5d2ff0",
   "metadata": {},
   "outputs": [
    {
     "name": "stdout",
     "output_type": "stream",
     "text": [
      "{'baklava': 0, 'carrot_cake': 1, 'cheesecake': 2, 'churros': 3, 'french_fries': 4, 'grilled_salmon': 5, 'oysters': 6, 'pancakes': 7, 'spring_rolls': 8, 'sushi': 9}\n"
     ]
    }
   ],
   "source": [
    "print(train_gen.class_indices)"
   ]
  },
  {
   "cell_type": "code",
   "execution_count": 52,
   "id": "8c193258",
   "metadata": {},
   "outputs": [],
   "source": [
    "labels = '\\n'.join(sorted(train_gen.class_indices.keys()))"
   ]
  },
  {
   "cell_type": "code",
   "execution_count": 53,
   "id": "3e29f3ec",
   "metadata": {},
   "outputs": [
    {
     "data": {
      "text/plain": [
       "'baklava\\ncarrot_cake\\ncheesecake\\nchurros\\nfrench_fries\\ngrilled_salmon\\noysters\\npancakes\\nspring_rolls\\nsushi'"
      ]
     },
     "execution_count": 53,
     "metadata": {},
     "output_type": "execute_result"
    }
   ],
   "source": [
    "labels"
   ]
  },
  {
   "cell_type": "code",
   "execution_count": null,
   "id": "dbca6d5e",
   "metadata": {},
   "outputs": [],
   "source": [
    "converter = tf.lite.TFLiteConverter.from_keras_model(history1)\n",
    "tflite_model = converter.convert()\n",
    "with open('models/draft2/model1.tflite', 'wb') as f:\n",
    "  f.write(tflite_model)"
   ]
  }
 ],
 "metadata": {
  "kernelspec": {
   "display_name": "Python 3",
   "language": "python",
   "name": "python3"
  },
  "language_info": {
   "codemirror_mode": {
    "name": "ipython",
    "version": 3
   },
   "file_extension": ".py",
   "mimetype": "text/x-python",
   "name": "python",
   "nbconvert_exporter": "python",
   "pygments_lexer": "ipython3",
   "version": "3.8.8"
  }
 },
 "nbformat": 4,
 "nbformat_minor": 5
}
