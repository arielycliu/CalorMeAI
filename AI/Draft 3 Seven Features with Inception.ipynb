{
 "cells": [
  {
   "cell_type": "markdown",
   "id": "dee60757",
   "metadata": {},
   "source": [
    "## Goals:\n",
    "- try training more features\n",
    "- reducing over fitting\n",
    "- increase accuracy"
   ]
  },
  {
   "cell_type": "code",
   "execution_count": 1,
   "id": "14552581",
   "metadata": {},
   "outputs": [],
   "source": [
    "import os\n",
    "from collections import defaultdict\n",
    "from shutil import copy\n",
    "from shutil import copytree, rmtree\n",
    "\n",
    "def move_data(filepath, src, dest): # Function for moving files - split training and testing data into files\n",
    "  classes_images = defaultdict(list)\n",
    "  with open(filepath, 'r') as txt:\n",
    "      paths = [read.strip() for read in txt.readlines()]\n",
    "      for p in paths:\n",
    "        food = p.split('/')\n",
    "        classes_images[food[0]].append(food[1] + '.jpg')\n",
    "\n",
    "  for food in classes_images.keys():\n",
    "    print(\" \" + food, end=\" \")\n",
    "    if not os.path.exists(os.path.join(dest,food)):\n",
    "      os.makedirs(os.path.join(dest,food))\n",
    "    for i in classes_images[food]:\n",
    "        try:\n",
    "            copy(os.path.join(src,food,i), os.path.join(dest,food,i))\n",
    "        except:\n",
    "            return"
   ]
  },
  {
   "cell_type": "code",
   "execution_count": 2,
   "id": "2598fa7b",
   "metadata": {},
   "outputs": [],
   "source": [
    "# Create data txt files with cheesecake, ceasar salad, and chicken curry\n",
    "def create_food_list(filepath, food_list_filepath, food_list):\n",
    "    with open(filepath, 'r') as txt:\n",
    "        paths = [read.strip() for read in txt.readlines()]\n",
    "        \n",
    "    food_list_file = open(food_list_filepath, \"w\")\n",
    "    for p in paths:\n",
    "        food = p.split('/')\n",
    "        #print(food)\n",
    "        if food[0] in food_list:\n",
    "            food_list_file.write(p + \"\\n\")\n",
    "                #final_food_list.append(p)\n",
    "    food_list_file.close()"
   ]
  },
  {
   "cell_type": "code",
   "execution_count": 4,
   "id": "ab492851",
   "metadata": {},
   "outputs": [],
   "source": [
    "food_list = ['lasagna', 'baklava', 'carrot_cake', 'ramen', 'churros', 'oysters', 'guacamole', 'grilled_salmon']\n",
    "\n",
    "create_food_list('meta/train.txt', 'meta/train7_Draft3.txt', food_list)\n",
    "create_food_list('meta/test.txt', 'meta/test7_Draft3.txt', food_list)"
   ]
  },
  {
   "cell_type": "code",
   "execution_count": 5,
   "id": "f2e190ec",
   "metadata": {},
   "outputs": [
    {
     "name": "stdout",
     "output_type": "stream",
     "text": [
      " baklava  carrot_cake  churros  grilled_salmon  guacamole  lasagna  oysters  ramen "
     ]
    }
   ],
   "source": [
    "move_data('meta/train7_Draft3.txt', 'images', 'Data/train7_Draft3') "
   ]
  },
  {
   "cell_type": "code",
   "execution_count": 6,
   "id": "2edfa8e7",
   "metadata": {},
   "outputs": [
    {
     "name": "stdout",
     "output_type": "stream",
     "text": [
      " baklava  carrot_cake  churros  grilled_salmon  guacamole  lasagna  oysters  ramen "
     ]
    }
   ],
   "source": [
    "move_data('meta/test7_Draft3.txt', 'images', 'Data/test7_Draft3') "
   ]
  },
  {
   "cell_type": "markdown",
   "id": "d0241875",
   "metadata": {},
   "source": [
    "## Getting Image Data Ready"
   ]
  },
  {
   "cell_type": "code",
   "execution_count": 7,
   "id": "e02e014b",
   "metadata": {},
   "outputs": [],
   "source": [
    "import tensorflow as tf\n",
    "\n",
    "data_gen = tf.keras.preprocessing.image.ImageDataGenerator(rescale=1./255, validation_split=0.2)"
   ]
  },
  {
   "cell_type": "code",
   "execution_count": 9,
   "id": "6a1da26a",
   "metadata": {},
   "outputs": [
    {
     "name": "stdout",
     "output_type": "stream",
     "text": [
      "Found 6000 images belonging to 8 classes.\n",
      "Found 2000 images belonging to 8 classes.\n"
     ]
    }
   ],
   "source": [
    "image_size = (235, 235)\n",
    "batch_size = 16\n",
    "\n",
    "train_gen = data_gen.flow_from_directory('Data/train7_Draft3', target_size=image_size, batch_size=batch_size) # class_mode default categorical\n",
    "test_gen = data_gen.flow_from_directory('Data/test7_Draft3', target_size=image_size, batch_size=batch_size)"
   ]
  },
  {
   "cell_type": "code",
   "execution_count": 10,
   "id": "acf24cea",
   "metadata": {},
   "outputs": [],
   "source": [
    "image_shape = (235, 235, 3)"
   ]
  },
  {
   "cell_type": "markdown",
   "id": "cfcc8252",
   "metadata": {},
   "source": [
    "## Load InceptionV3"
   ]
  },
  {
   "cell_type": "code",
   "execution_count": 19,
   "id": "79dcfd47",
   "metadata": {},
   "outputs": [],
   "source": [
    "from tensorflow.keras.applications.inception_v3 import InceptionV3\n",
    "inception_model = InceptionV3(weights='imagenet', input_shape=image_shape, include_top=False)  # include top freeze weights\n",
    "inception_model.trainable=False   # don't retrain weights - transfer learn"
   ]
  },
  {
   "cell_type": "markdown",
   "id": "a3c1dd5c",
   "metadata": {},
   "source": [
    "## Model 1"
   ]
  },
  {
   "cell_type": "code",
   "execution_count": 26,
   "id": "20ec2e90",
   "metadata": {},
   "outputs": [
    {
     "name": "stdout",
     "output_type": "stream",
     "text": [
      "Model: \"sequential_8\"\n",
      "_________________________________________________________________\n",
      "Layer (type)                 Output Shape              Param #   \n",
      "=================================================================\n",
      "inception_v3 (Functional)    (None, 6, 6, 2048)        21802784  \n",
      "_________________________________________________________________\n",
      "dropout_14 (Dropout)         (None, 6, 6, 2048)        0         \n",
      "_________________________________________________________________\n",
      "conv2d_202 (Conv2D)          (None, 5, 5, 32)          262176    \n",
      "_________________________________________________________________\n",
      "max_pooling2d_10 (MaxPooling (None, 2, 2, 32)          0         \n",
      "_________________________________________________________________\n",
      "dropout_15 (Dropout)         (None, 2, 2, 32)          0         \n",
      "_________________________________________________________________\n",
      "conv2d_203 (Conv2D)          (None, 1, 1, 32)          4128      \n",
      "_________________________________________________________________\n",
      "global_average_pooling2d_1 ( (None, 32)                0         \n",
      "_________________________________________________________________\n",
      "dense_1 (Dense)              (None, 8)                 264       \n",
      "=================================================================\n",
      "Total params: 22,069,352\n",
      "Trainable params: 266,568\n",
      "Non-trainable params: 21,802,784\n",
      "_________________________________________________________________\n"
     ]
    }
   ],
   "source": [
    "from tensorflow import keras\n",
    "from tensorflow.keras import layers\n",
    "from tensorflow.keras.models import Sequential\n",
    "from keras.regularizers import l2\n",
    "from tensorflow.keras.layers import Dense, Activation, Dropout, Conv2D, MaxPool2D, GlobalAveragePooling2D\n",
    "\n",
    "model1 = Sequential()\n",
    "model1.add(inception_model)\n",
    "model1.add(Dropout(0.2))\n",
    "\n",
    "model1.add(Conv2D(32, 2, activation='relu'))  #filters=32, strides=2, kernel_size=(5,5),\n",
    "model1.add(MaxPool2D(pool_size=(2,2)))\n",
    "model1.add(Dropout(0.2))\n",
    "\n",
    "model1.add(Conv2D(32, 2, activation='relu'))\n",
    "model1.add(GlobalAveragePooling2D()) # avg output of feature map\n",
    "model1.add(Dense(8, activation='softmax'))\n",
    "\n",
    "model1.summary()"
   ]
  },
  {
   "cell_type": "code",
   "execution_count": 27,
   "id": "ffc9e223",
   "metadata": {},
   "outputs": [],
   "source": [
    "model1.compile(optimizer='adam', loss='categorical_crossentropy', metrics=['accuracy'])"
   ]
  },
  {
   "cell_type": "code",
   "execution_count": 28,
   "id": "02058be9",
   "metadata": {},
   "outputs": [],
   "source": [
    "from tensorflow.keras.callbacks import EarlyStopping, ModelCheckpoint\n",
    "earlystopping = EarlyStopping(min_delta=0.001, patience=5, restore_best_weights=True)\n",
    "checkpoint = ModelCheckpoint(filepath='models/draft3/model1.h5', verbose=1, save_best_only=True, save_weights_only=True)"
   ]
  },
  {
   "cell_type": "code",
   "execution_count": 30,
   "id": "53f251cc",
   "metadata": {},
   "outputs": [
    {
     "name": "stdout",
     "output_type": "stream",
     "text": [
      "Epoch 1/30\n",
      "375/375 [==============================] - 137s 366ms/step - loss: 1.1794 - accuracy: 0.5927 - val_loss: 0.7256 - val_accuracy: 0.7950\n",
      "\n",
      "Epoch 00001: val_loss improved from inf to 0.72556, saving model to models/draft3\\model1.h5\n",
      "Epoch 2/30\n",
      "375/375 [==============================] - 142s 379ms/step - loss: 0.7808 - accuracy: 0.7547 - val_loss: 0.5864 - val_accuracy: 0.8200\n",
      "\n",
      "Epoch 00002: val_loss improved from 0.72556 to 0.58640, saving model to models/draft3\\model1.h5\n",
      "Epoch 3/30\n",
      "375/375 [==============================] - 146s 389ms/step - loss: 0.6497 - accuracy: 0.7982 - val_loss: 0.6592 - val_accuracy: 0.8030\n",
      "\n",
      "Epoch 00003: val_loss did not improve from 0.58640\n",
      "Epoch 4/30\n",
      "375/375 [==============================] - 142s 378ms/step - loss: 0.5679 - accuracy: 0.8247 - val_loss: 0.5643 - val_accuracy: 0.8245\n",
      "\n",
      "Epoch 00004: val_loss improved from 0.58640 to 0.56431, saving model to models/draft3\\model1.h5\n",
      "Epoch 5/30\n",
      "375/375 [==============================] - 142s 379ms/step - loss: 0.5062 - accuracy: 0.8392 - val_loss: 0.4659 - val_accuracy: 0.8615\n",
      "\n",
      "Epoch 00005: val_loss improved from 0.56431 to 0.46586, saving model to models/draft3\\model1.h5\n",
      "Epoch 6/30\n",
      "375/375 [==============================] - 140s 374ms/step - loss: 0.4548 - accuracy: 0.8550 - val_loss: 0.5026 - val_accuracy: 0.8470\n",
      "\n",
      "Epoch 00006: val_loss did not improve from 0.46586\n",
      "Epoch 7/30\n",
      "375/375 [==============================] - 141s 377ms/step - loss: 0.4254 - accuracy: 0.8637 - val_loss: 0.4925 - val_accuracy: 0.8530\n",
      "\n",
      "Epoch 00007: val_loss did not improve from 0.46586\n",
      "Epoch 8/30\n",
      "375/375 [==============================] - 141s 376ms/step - loss: 0.3980 - accuracy: 0.8747 - val_loss: 0.4898 - val_accuracy: 0.8525\n",
      "\n",
      "Epoch 00008: val_loss did not improve from 0.46586\n",
      "Epoch 9/30\n",
      "375/375 [==============================] - 143s 382ms/step - loss: 0.3692 - accuracy: 0.8827 - val_loss: 0.4342 - val_accuracy: 0.8650\n",
      "\n",
      "Epoch 00009: val_loss improved from 0.46586 to 0.43421, saving model to models/draft3\\model1.h5\n",
      "Epoch 10/30\n",
      "375/375 [==============================] - 136s 364ms/step - loss: 0.3663 - accuracy: 0.8865 - val_loss: 0.6173 - val_accuracy: 0.8280\n",
      "\n",
      "Epoch 00010: val_loss did not improve from 0.43421\n",
      "Epoch 11/30\n",
      "375/375 [==============================] - 139s 371ms/step - loss: 0.3314 - accuracy: 0.8897 - val_loss: 0.4624 - val_accuracy: 0.8680\n",
      "\n",
      "Epoch 00011: val_loss did not improve from 0.43421\n",
      "Epoch 12/30\n",
      "375/375 [==============================] - 136s 362ms/step - loss: 0.3333 - accuracy: 0.8905 - val_loss: 0.4987 - val_accuracy: 0.8590\n",
      "\n",
      "Epoch 00012: val_loss did not improve from 0.43421\n",
      "Epoch 13/30\n",
      "375/375 [==============================] - 137s 365ms/step - loss: 0.3380 - accuracy: 0.8910 - val_loss: 0.4645 - val_accuracy: 0.8665\n",
      "\n",
      "Epoch 00013: val_loss did not improve from 0.43421\n",
      "Epoch 14/30\n",
      "375/375 [==============================] - 138s 368ms/step - loss: 0.2977 - accuracy: 0.9055 - val_loss: 0.6287 - val_accuracy: 0.8410\n",
      "\n",
      "Epoch 00014: val_loss did not improve from 0.43421\n"
     ]
    }
   ],
   "source": [
    "history1 = model1.fit(train_gen, validation_data=test_gen, epochs=30, verbose=1, callbacks=[checkpoint, earlystopping])"
   ]
  },
  {
   "cell_type": "code",
   "execution_count": 31,
   "id": "a0f9234d",
   "metadata": {},
   "outputs": [],
   "source": [
    "# Save model\n",
    "model1.save(\"models/draft3/model1.h5\")"
   ]
  },
  {
   "cell_type": "markdown",
   "id": "d50998c1",
   "metadata": {},
   "source": [
    "## Plot"
   ]
  },
  {
   "cell_type": "code",
   "execution_count": 32,
   "id": "5c6ad3fb",
   "metadata": {},
   "outputs": [
    {
     "data": {
      "text/plain": [
       "<AxesSubplot:>"
      ]
     },
     "execution_count": 32,
     "metadata": {},
     "output_type": "execute_result"
    },
    {
     "data": {
      "image/png": "[encoded data removed]",
      "text/plain": [
       "<Figure size 432x288 with 1 Axes>"
      ]
     },
     "metadata": {
      "needs_background": "light"
     },
     "output_type": "display_data"
    },
    {
     "data": {
      "image/png": "[encoded data removed]",
      "text/plain": [
       "<Figure size 432x288 with 1 Axes>"
      ]
     },
     "metadata": {
      "needs_background": "light"
     },
     "output_type": "display_data"
    }
   ],
   "source": [
    "import pandas as pd\n",
    "\n",
    "history_df = pd.DataFrame(history1.history)\n",
    "history_df.loc[:,['loss', 'val_loss']].plot()\n",
    "history_df.loc[:,['accuracy', 'val_accuracy']].plot()"
   ]
  },
  {
   "cell_type": "code",
   "execution_count": 33,
   "id": "1e6112b2",
   "metadata": {},
   "outputs": [
    {
     "name": "stdout",
     "output_type": "stream",
     "text": [
      "0.8679999709129333\n"
     ]
    }
   ],
   "source": [
    "print(max(history_df['val_accuracy']))"
   ]
  },
  {
   "cell_type": "code",
   "execution_count": 34,
   "id": "b3455c26",
   "metadata": {},
   "outputs": [
    {
     "name": "stdout",
     "output_type": "stream",
     "text": [
      "0.9054999947547913\n"
     ]
    }
   ],
   "source": [
    "print(max(history_df['accuracy']))"
   ]
  },
  {
   "cell_type": "markdown",
   "id": "a57768ad",
   "metadata": {},
   "source": [
    "# Convert to tf lite - Flutter"
   ]
  },
  {
   "cell_type": "code",
   "execution_count": 35,
   "id": "6bb6733f",
   "metadata": {},
   "outputs": [],
   "source": [
    "import tensorflow as tf\n",
    "assert tf.__version__.startswith('2')"
   ]
  },
  {
   "cell_type": "code",
   "execution_count": 36,
   "id": "de5e413f",
   "metadata": {},
   "outputs": [
    {
     "name": "stdout",
     "output_type": "stream",
     "text": [
      "Note: you may need to restart the kernel to use updated packages.\n"
     ]
    },
    {
     "name": "stderr",
     "output_type": "stream",
     "text": [
      "ERROR: Could not find a version that satisfies the requirement tensorflow==2\n",
      "ERROR: No matching distribution found for tensorflow==2\n"
     ]
    }
   ],
   "source": [
    "pip install tensorflow==2"
   ]
  },
  {
   "cell_type": "code",
   "execution_count": 37,
   "id": "101748cf",
   "metadata": {},
   "outputs": [
    {
     "name": "stdout",
     "output_type": "stream",
     "text": [
      "INFO:tensorflow:Assets written to: C:\\Users\\ariel\\AppData\\Local\\Temp\\tmp33xc_6r6\\assets\n"
     ]
    }
   ],
   "source": [
    "converter = tf.lite.TFLiteConverter.from_keras_model(model1)\n",
    "tflite_model = converter.convert()\n",
    "with open('models/draft3/model1.tflite', 'wb') as f:\n",
    "  f.write(tflite_model)"
   ]
  },
  {
   "cell_type": "code",
   "execution_count": 38,
   "id": "299e581b",
   "metadata": {},
   "outputs": [
    {
     "name": "stdout",
     "output_type": "stream",
     "text": [
      "{'baklava': 0, 'carrot_cake': 1, 'churros': 2, 'grilled_salmon': 3, 'guacamole': 4, 'lasagna': 5, 'oysters': 6, 'ramen': 7}\n"
     ]
    }
   ],
   "source": [
    "print(train_gen.class_indices)"
   ]
  },
  {
   "cell_type": "code",
   "execution_count": 39,
   "id": "12e310ae",
   "metadata": {},
   "outputs": [],
   "source": [
    "labels = '\\n'.join(sorted(train_gen.class_indices.keys()))"
   ]
  },
  {
   "cell_type": "code",
   "execution_count": 42,
   "id": "8ec5d0f6",
   "metadata": {},
   "outputs": [],
   "source": [
    "with open('models/draft3/labels.txt', 'w') as f:\n",
    "    f.write(labels)"
   ]
  },
  {
   "cell_type": "code",
   "execution_count": null,
   "id": "c847c29d",
   "metadata": {},
   "outputs": [],
   "source": []
  },
  {
   "cell_type": "code",
   "execution_count": null,
   "id": "4018eea4",
   "metadata": {},
   "outputs": [],
   "source": []
  },
  {
   "cell_type": "code",
   "execution_count": null,
   "id": "5a85045c",
   "metadata": {},
   "outputs": [],
   "source": []
  },
  {
   "cell_type": "code",
   "execution_count": null,
   "id": "dbca6d5e",
   "metadata": {},
   "outputs": [],
   "source": [
    "converter = tf.lite.TFLiteConverter.from_keras_model(history1)\n",
    "tflite_model = converter.convert()\n",
    "with open('models/draft2/model1.tflite', 'wb') as f:\n",
    "  f.write(tflite_model)"
   ]
  }
 ],
 "metadata": {
  "kernelspec": {
   "display_name": "Python 3",
   "language": "python",
   "name": "python3"
  },
  "language_info": {
   "codemirror_mode": {
    "name": "ipython",
    "version": 3
   },
   "file_extension": ".py",
   "mimetype": "text/x-python",
   "name": "python",
   "nbconvert_exporter": "python",
   "pygments_lexer": "ipython3",
   "version": "3.8.8"
  }
 },
 "nbformat": 4,
 "nbformat_minor": 5
}
